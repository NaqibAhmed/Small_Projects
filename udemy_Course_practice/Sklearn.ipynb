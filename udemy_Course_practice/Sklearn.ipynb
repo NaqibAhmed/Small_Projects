{
 "cells": [
  {
   "cell_type": "code",
   "execution_count": 1,
   "id": "17efb805",
   "metadata": {
    "tags": []
   },
   "outputs": [],
   "source": [
    "import pandas as pd\n",
    "import numpy as np\n",
    "import matplotlib.pyplot as plt\n",
    "%matplotlib inline"
   ]
  },
  {
   "cell_type": "markdown",
   "id": "4c7ef86a",
   "metadata": {
    "tags": []
   },
   "source": [
    "# What are we going to cover\n",
    "0. An end-to-end Scikit Learn workflow\n",
    "1. Getting the data ready\n",
    "2. choosing right estimator/algorithms for our problem\n",
    "3. fitting model/algorithms to pridict on our data\n",
    "4. evaluating a model\n",
    "5. Improving a model\n",
    "6. saving and loading a trained modle\n",
    "7. Putting it all together"
   ]
  },
  {
   "cell_type": "markdown",
   "id": "58d8a34b-c817-492f-9444-517f1b8e1f69",
   "metadata": {},
   "source": [
    "# 1. Getting Data Ready"
   ]
  },
  {
   "cell_type": "code",
   "execution_count": 2,
   "id": "e3ba0a1f-55a6-4d98-9231-f426af0fbd4e",
   "metadata": {},
   "outputs": [],
   "source": [
    "# importing the data\n",
    "heart_disease = pd.read_csv(\"Heart_disease.csv\")\n",
    "\n",
    "# splitteing data into X and y\n",
    "X = heart_disease.drop([\"target\" , \"Unnamed: 0\"] , axis=1)\n",
    "y = heart_disease[\"target\"]"
   ]
  },
  {
   "cell_type": "code",
   "execution_count": 3,
   "id": "24c3d4fe-f718-4898-bbc3-bcbdf95d7805",
   "metadata": {},
   "outputs": [],
   "source": [
    "# splitting data into traon and test group\n",
    "from sklearn.model_selection import train_test_split\n",
    "X_train, X_test, y_train, y_test = train_test_split(X, y)"
   ]
  },
  {
   "cell_type": "markdown",
   "id": "70aecfae-68a5-4277-8075-d23a4639d9ec",
   "metadata": {},
   "source": [
    "# 2. Picking right Model"
   ]
  },
  {
   "cell_type": "code",
   "execution_count": 4,
   "id": "535ed220-bb08-4142-8be0-ec138502f3a6",
   "metadata": {},
   "outputs": [],
   "source": [
    "from sklearn.ensemble import RandomForestClassifier\n",
    "clf = RandomForestClassifier()"
   ]
  },
  {
   "cell_type": "markdown",
   "id": "6b78d7a4-4529-44e3-8cc0-18b17f620cd1",
   "metadata": {},
   "source": [
    "# 3. Fitting the model"
   ]
  },
  {
   "cell_type": "code",
   "execution_count": 5,
   "id": "6e93c961-8da3-44f1-8eca-e1cbb0459e4d",
   "metadata": {},
   "outputs": [],
   "source": [
    "# all model have a fit() function\n",
    "clf.fit(X_train, y_train)\n",
    "\n",
    "# once a model is fitted, you can make prediction\n",
    "y_preds = clf.predict(X_test)"
   ]
  },
  {
   "cell_type": "markdown",
   "id": "33386d17-a753-4afc-a30d-c8a76156c56d",
   "metadata": {},
   "source": [
    "# 4. Evaluating a model "
   ]
  },
  {
   "cell_type": "code",
   "execution_count": 7,
   "id": "a365629f-da39-44d3-8a46-8ad3b97c5c07",
   "metadata": {},
   "outputs": [
    {
     "data": {
      "text/plain": [
       "0.8289473684210527"
      ]
     },
     "execution_count": 7,
     "metadata": {},
     "output_type": "execute_result"
    }
   ],
   "source": [
    "# Evaluating using score\n",
    "clf.score(X_test, y_test)"
   ]
  },
  {
   "cell_type": "code",
   "execution_count": 8,
   "id": "586bf7f4-2c5b-4780-a62d-9647c438ce3e",
   "metadata": {},
   "outputs": [
    {
     "name": "stdout",
     "output_type": "stream",
     "text": [
      "[0.81967213 0.8852459  0.80327869 0.76666667 0.78333333]\n",
      "[0.85       0.82352941 0.88235294 0.9375     0.83333333 0.92307692\n",
      " 0.78571429 0.83333333 0.7        0.82352941]\n"
     ]
    }
   ],
   "source": [
    "# evaluating an model using cross-validation\n",
    "from sklearn.model_selection import cross_val_score\n",
    "\n",
    "#scoring=None uses default score() method\n",
    "print(cross_val_score(estimator=clf,\n",
    "                      X=X,\n",
    "                      y=y,\n",
    "                      cv=5,\n",
    "                      scoring=None))\n",
    "# Using score = 'pricision'\n",
    "print(cross_val_score(estimator=clf,\n",
    "                      X=X,\n",
    "                      y=y,\n",
    "                      cv=10, #howmany folds for cross validation\n",
    "                      scoring='precision'))"
   ]
  },
  {
   "cell_type": "code",
   "execution_count": 9,
   "id": "397e51b0-7870-431b-954d-4ca89318849c",
   "metadata": {},
   "outputs": [
    {
     "name": "stdout",
     "output_type": "stream",
     "text": [
      "Accuracy Score 0.8289473684210527\n"
     ]
    }
   ],
   "source": [
    "# Different classification matrix \n",
    "\n",
    "# Accuracy\n",
    "from sklearn.metrics import accuracy_score\n",
    "print(f\"Accuracy Score {accuracy_score(y_test, y_preds)}\")"
   ]
  },
  {
   "cell_type": "code",
   "execution_count": null,
   "id": "318330fc-4823-475c-8ec9-7bc5db13ba35",
   "metadata": {},
   "outputs": [],
   "source": []
  }
 ],
 "metadata": {
  "kernelspec": {
   "display_name": "Python 3 (ipykernel)",
   "language": "python",
   "name": "python3"
  },
  "language_info": {
   "codemirror_mode": {
    "name": "ipython",
    "version": 3
   },
   "file_extension": ".py",
   "mimetype": "text/x-python",
   "name": "python",
   "nbconvert_exporter": "python",
   "pygments_lexer": "ipython3",
   "version": "3.9.11"
  }
 },
 "nbformat": 4,
 "nbformat_minor": 5
}
